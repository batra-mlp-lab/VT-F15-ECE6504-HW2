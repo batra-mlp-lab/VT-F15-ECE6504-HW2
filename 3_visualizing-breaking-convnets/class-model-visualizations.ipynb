{
 "cells": [
  {
   "cell_type": "code",
   "execution_count": 3,
   "metadata": {
    "collapsed": false
   },
   "outputs": [],
   "source": [
    "# Setup\n",
    "import os\n",
    "import numpy as np\n",
    "import matplotlib.pyplot as plt\n",
    "import matplotlib.cm as cm\n",
    "%matplotlib inline\n",
    "\n",
    "# Make sure that caffe is on the python path\n",
    "caffe_root = ''\n",
    "import sys\n",
    "sys.path.insert(0, caffe_root + 'python')\n",
    "\n",
    "import caffe\n",
    "\n",
    "plt.rcParams['figure.figsize'] = (10, 10)\n",
    "plt.rcParams['image.interpolation'] = 'nearest'\n",
    "plt.rcParams['image.cmap'] = 'gray'\n",
    "\n",
    "model_prototxt = 'deploy.prototxt'\n",
    "pretrained_model = os.path.join(caffe_root,'models/bvlc_alexnet/bvlc_alexnet.caffemodel')\n",
    "\n",
    "caffe.set_mode_cpu()\n",
    "net = caffe.Classifier(model_prototxt, pretrained_model,\n",
    "                       mean=np.load(os.path.join(caffe_root,'python/caffe/imagenet/ilsvrc_2012_mean.npy')).mean(1).mean(1),\n",
    "                       channel_swap=(2,1,0),\n",
    "                       raw_scale=255,\n",
    "                       image_dims=(256, 256))"
   ]
  },
  {
   "cell_type": "markdown",
   "metadata": {},
   "source": [
    "Sanity check just to see if everything is set up properly."
   ]
  },
  {
   "cell_type": "code",
   "execution_count": 4,
   "metadata": {
    "collapsed": false
   },
   "outputs": [
    {
     "name": "stdout",
     "output_type": "stream",
     "text": [
      "Predicted class is #285.\n",
      "['n02124075 Egyptian cat' 'n02123045 tabby, tabby cat'\n",
      " 'n02123159 tiger cat' 'n02127052 lynx, catamount'\n",
      " 'n02120505 grey fox, gray fox, Urocyon cinereoargenteus']\n"
     ]
    }
   ],
   "source": [
    "image_file = 'cat.jpg'\n",
    "input_image = caffe.io.load_image(image_file)\n",
    "prediction = net.predict([input_image])\n",
    "print(\"Predicted class is #{}.\".format(prediction[0].argmax()))\n",
    "\n",
    "# load labels\n",
    "imagenet_labels_filename = os.path.join(caffe_root,'data/ilsvrc12/synset_words.txt')\n",
    "try:\n",
    "    labels = np.loadtxt(imagenet_labels_filename, str, delimiter='\\t')\n",
    "except:\n",
    "    !../data/ilsvrc12/get_ilsvrc_aux.sh\n",
    "    labels = np.loadtxt(imagenet_labels_filename, str, delimiter='\\t')\n",
    "\n",
    "# sort top k predictions from softmax output\n",
    "top_k = prediction[0].flatten().argsort()[-1:-6:-1]\n",
    "print labels[top_k]"
   ]
  },
  {
   "cell_type": "markdown",
   "metadata": {},
   "source": [
    "Here, we set the number of iterations, desired label, learning rate and the randomly generated image that we start with."
   ]
  },
  {
   "cell_type": "code",
   "execution_count": 10,
   "metadata": {
    "collapsed": false
   },
   "outputs": [],
   "source": [
    "n_iterations = 250\n",
    "input_data = np.random.random((1,3,227,227))\n",
    "label_index = 281 # cat. 99: goose, 285: cat, 543: dumbbell\n",
    "label = np.zeros((1,1,1,1000))\n",
    "label[0,0,0,label_index] = 1;\n",
    "learning_rate = 10000"
   ]
  },
  {
   "cell_type": "markdown",
   "metadata": {},
   "source": [
    "Iteratively perform gradient ascent over input image space to generate visualization."
   ]
  },
  {
   "cell_type": "code",
   "execution_count": null,
   "metadata": {
    "collapsed": false
   },
   "outputs": [],
   "source": [
    "for i in range(n_iterations):\n",
    "    # Perform forward pass\n",
    "    # TODO\n",
    "    # \n",
    "    # END OF YOUR CODE\n",
    "    \n",
    "    # Perform backward pass for the desired class\n",
    "    bw = net.backward(**{net.outputs[0]: label})\n",
    "    \n",
    "    # Perform gradient ascent over the input image\n",
    "    # TODO\n",
    "    # \n",
    "    #\n",
    "    # END OF YOUR CODE\n",
    "    \n",
    "    if i%20 == 0:\n",
    "        print(\"Iteration #{}.\".format(i))\n",
    "\n",
    "print 'Done'"
   ]
  },
  {
   "cell_type": "markdown",
   "metadata": {},
   "source": [
    "Normalize and view the class model visualization."
   ]
  },
  {
   "cell_type": "code",
   "execution_count": null,
   "metadata": {
    "collapsed": false
   },
   "outputs": [],
   "source": [
    "data = input_data[0].transpose(1,2,0)\n",
    "data -= data.min()\n",
    "data /= data.max()\n",
    "plt.imshow(data)"
   ]
  }
 ],
 "metadata": {
  "kernelspec": {
   "display_name": "Python 2",
   "language": "python",
   "name": "python2"
  },
  "language_info": {
   "codemirror_mode": {
    "name": "ipython",
    "version": 2
   },
   "file_extension": ".py",
   "mimetype": "text/x-python",
   "name": "python",
   "nbconvert_exporter": "python",
   "pygments_lexer": "ipython2",
   "version": "2.7.6"
  }
 },
 "nbformat": 4,
 "nbformat_minor": 0
}
