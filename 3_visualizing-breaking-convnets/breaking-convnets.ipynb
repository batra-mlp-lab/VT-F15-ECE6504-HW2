{
 "cells": [
  {
   "cell_type": "code",
   "execution_count": 1,
   "metadata": {
    "collapsed": false
   },
   "outputs": [],
   "source": [
    "# Setup\n",
    "import os\n",
    "import numpy as np\n",
    "import matplotlib.pyplot as plt\n",
    "import matplotlib.cm as cm\n",
    "%matplotlib inline\n",
    "\n",
    "# Make sure that caffe is on the python path\n",
    "caffe_root = ''\n",
    "import sys\n",
    "sys.path.insert(0, caffe_root + 'python')\n",
    "\n",
    "import caffe\n",
    "\n",
    "plt.rcParams['figure.figsize'] = (10, 10)\n",
    "plt.rcParams['image.interpolation'] = 'nearest'\n",
    "plt.rcParams['image.cmap'] = 'gray'\n",
    "\n",
    "model_prototxt = 'deploy.prototxt'\n",
    "pretrained_model = os.path.join(caffe_root,'models/bvlc_alexnet/bvlc_alexnet.caffemodel')\n",
    "\n",
    "caffe.set_mode_cpu()\n",
    "net = caffe.Classifier(model_prototxt, pretrained_model,\n",
    "                       mean=np.load(os.path.join(caffe_root,'python/caffe/imagenet/ilsvrc_2012_mean.npy')).mean(1).mean(1),\n",
    "                       channel_swap=(2,1,0),\n",
    "                       raw_scale=255,\n",
    "                       image_dims=(256, 256))"
   ]
  },
  {
   "cell_type": "markdown",
   "metadata": {},
   "source": [
    "We start with the image of a cat and desired label as goose. We update input image for `n_iterations` iterations till it maximises class score for goose."
   ]
  },
  {
   "cell_type": "code",
   "execution_count": null,
   "metadata": {
    "collapsed": false
   },
   "outputs": [],
   "source": [
    "image_file = 'cat_2.jpg'\n",
    "input_image = caffe.io.load_image(image_file)\n",
    "\n",
    "n_iterations = 40\n",
    "desired_label = 99 # goose\n",
    "label = np.zeros((1,1,1,1000))\n",
    "label[0,0,0,desired_label] = 1;\n",
    "step_size = 1000\n",
    "reg = 0.002\n",
    "\n",
    "input_image = net.transformer.preprocess('data',input_image)\n",
    "fooling_image = input_image[:]\n",
    "zero_image = np.zeros(fooling_image.shape)\n",
    "\n",
    "for i in range(n_iterations):\n",
    "    net.blobs['data'].data[...] = fooling_image\n",
    "    \n",
    "    # Perform forward pass\n",
    "    # TODO\n",
    "    # \n",
    "    # END OF YOUR CODE\n",
    "    \n",
    "    # Perform backward pass for the desired class\n",
    "    # TODO\n",
    "    # \n",
    "    # END OF YOUR CODE\n",
    "    \n",
    "    # Compute gradient and incremental update\n",
    "    # Store update value in di\n",
    "    # TODO\n",
    "    # \n",
    "    # di = \n",
    "    # END OF YOUR CODE\n",
    "    \n",
    "    fooling_image += di\n",
    "    zero_image += di\n",
    "    \n",
    "plt.subplot(1,2,1)\n",
    "plt.imshow(net.transformer.deprocess('data', zero_image))\n",
    "plt.subplot(1,2,2)\n",
    "plt.imshow(net.transformer.deprocess('data', fooling_image))\n",
    "\n",
    "# Save the image\n",
    "plt.imsave('cat_fooled.jpg',net.transformer.deprocess('data', fooling_image))"
   ]
  },
  {
   "cell_type": "markdown",
   "metadata": {},
   "source": [
    "Here we check our prediction on the modified image to make sure it is able to 'fool' the ConvNet."
   ]
  },
  {
   "cell_type": "code",
   "execution_count": 3,
   "metadata": {
    "collapsed": false
   },
   "outputs": [
    {
     "name": "stdout",
     "output_type": "stream",
     "text": [
      "['n01855672 goose' 'n01806567 quail' 'n01847000 drake'\n",
      " 'n02018207 American coot, marsh hen, mud hen, water hen, Fulica americana'\n",
      " 'n01592084 chickadee']\n"
     ]
    }
   ],
   "source": [
    "image_file = 'cat_fooled.jpg'\n",
    "net.blobs['data'].data[...] = net.transformer.preprocess('data',caffe.io.load_image(image_file))\n",
    "prediction = net.forward()\n",
    "# load labels\n",
    "imagenet_labels_filename = os.path.join(caffe_root,'data/ilsvrc12/synset_words.txt')\n",
    "try:\n",
    "    labels = np.loadtxt(imagenet_labels_filename, str, delimiter='\\t')\n",
    "except:\n",
    "    !../data/ilsvrc12/get_ilsvrc_aux.sh\n",
    "    labels = np.loadtxt(imagenet_labels_filename, str, delimiter='\\t')\n",
    "# sort top k predictions from softmax output\n",
    "top_k = prediction['fc8'][0].flatten().argsort()[-1:-6:-1]\n",
    "print labels[top_k]"
   ]
  }
 ],
 "metadata": {
  "kernelspec": {
   "display_name": "Python 2",
   "language": "python",
   "name": "python2"
  },
  "language_info": {
   "codemirror_mode": {
    "name": "ipython",
    "version": 2
   },
   "file_extension": ".py",
   "mimetype": "text/x-python",
   "name": "python",
   "nbconvert_exporter": "python",
   "pygments_lexer": "ipython2",
   "version": "2.7.6"
  }
 },
 "nbformat": 4,
 "nbformat_minor": 0
}
