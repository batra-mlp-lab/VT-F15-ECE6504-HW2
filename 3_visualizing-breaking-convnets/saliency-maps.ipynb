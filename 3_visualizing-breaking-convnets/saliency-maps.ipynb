{
 "cells": [
  {
   "cell_type": "code",
   "execution_count": 1,
   "metadata": {
    "collapsed": false
   },
   "outputs": [],
   "source": [
    "# Setup\n",
    "import os\n",
    "import numpy as np\n",
    "import matplotlib.pyplot as plt\n",
    "import matplotlib.cm as cm\n",
    "%matplotlib inline\n",
    "\n",
    "# Make sure that caffe is on the python path\n",
    "caffe_root = ''\n",
    "import sys\n",
    "sys.path.insert(0, caffe_root + 'python')\n",
    "\n",
    "import caffe\n",
    "\n",
    "plt.rcParams['figure.figsize'] = (10, 10)\n",
    "plt.rcParams['image.interpolation'] = 'nearest'\n",
    "plt.rcParams['image.cmap'] = 'gray'\n",
    "\n",
    "model_prototxt = 'deploy.prototxt'\n",
    "pretrained_model = os.path.join(caffe_root,'models/bvlc_alexnet/bvlc_alexnet.caffemodel')\n",
    "\n",
    "caffe.set_mode_cpu()\n",
    "net = caffe.Classifier(model_prototxt, pretrained_model,\n",
    "                       mean=np.load(os.path.join(caffe_root,'python/caffe/imagenet/ilsvrc_2012_mean.npy')).mean(1).mean(1),\n",
    "                       channel_swap=(2,1,0),\n",
    "                       raw_scale=255,\n",
    "                       image_dims=(256, 256))"
   ]
  },
  {
   "cell_type": "code",
   "execution_count": null,
   "metadata": {
    "collapsed": false
   },
   "outputs": [],
   "source": [
    "image_file = 'cat.jpg'\n",
    "input_image = caffe.io.load_image(image_file)\n",
    "\n",
    "label_index = 281 # 99: goose, 285: cat, 543: dumbbell\n",
    "input_data = np.zeros((1,3,227,227))\n",
    "label = np.zeros((1,1,1,1000))\n",
    "label[0,0,0,label_index] = 1\n",
    "learning_rate = 1000\n",
    "\n",
    "prediction = net.predict([input_image])\n",
    "\n",
    "# Compute gradient of class score with respect to input image.\n",
    "# Store visualization matrix in \"saliency_map\"\n",
    "# TODO\n",
    "# \n",
    "# \n",
    "# \n",
    "# \n",
    "# \n",
    "# \n",
    "# END OF YOUR CODE\n",
    "\n",
    "plt.subplot(1,2,1)\n",
    "plt.imshow(saliency_map)\n",
    "plt.subplot(1,2,2)\n",
    "plt.imshow(net.transformer.deprocess('data', net.blobs['data'].data[0]))"
   ]
  }
 ],
 "metadata": {
  "kernelspec": {
   "display_name": "Python 2",
   "language": "python",
   "name": "python2"
  },
  "language_info": {
   "codemirror_mode": {
    "name": "ipython",
    "version": 2
   },
   "file_extension": ".py",
   "mimetype": "text/x-python",
   "name": "python",
   "nbconvert_exporter": "python",
   "pygments_lexer": "ipython2",
   "version": "2.7.6"
  }
 },
 "nbformat": 4,
 "nbformat_minor": 0
}
